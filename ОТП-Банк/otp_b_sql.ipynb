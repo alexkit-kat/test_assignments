{
 "cells": [
  {
   "cell_type": "markdown",
   "id": "321099ef",
   "metadata": {},
   "source": [
    "БД: `PostgreSQL` \\\n",
    "Описание таблиц БД `test_data`:\n",
    "\n",
    "1. Таблица `CUSTOMER_OTP` - cодержит информацию о клиентах. Столбцы:\n",
    "- `CUST_ID` (INT): Уникальный идентификатор клиента.\n",
    "- `FULLNAME` (VARCHAR(255)): фамилия клиента.\n",
    "- `SEX` (CHAR(1)): Пол клиента ('М' - мужской, 'Ж' - женский).\n",
    "- `BIRTH_DT` (DATE): Дата рождения клиента.\n",
    "- `VALID_FROM` (DATE): Дата начала действия записи о клиенте.\n",
    "- `VALID_TO` (DATE): Дата окончания действия записи о клиенте.\n",
    " \n",
    "2. Таблица `CUSTOMER_CONTACT_OTP` - cодержит контактные данные клиентов. Cтолбцы:\n",
    "- `CUST_ID` (INT): Уникальный идентификатор клиента (связь с таблицей CUSTOMER_OTP).\n",
    "- `TYPE` (VARCHAR(255)): Тип контактной информации ('EMAIL', 'PHONE', 'ADDRESS' и т.д.).\n",
    "- `VALUE` (VARCHAR(255)): Значение контактной информации (например, email, номер телефона или адрес).\n",
    "- `VALID_FROM` (DATE): Дата начала действия записи о контакте.\n",
    "- `VALID_TO` (DATE): Дата окончания действия записи о контакте.\n",
    " \n",
    "3. Таблица `TRANSACTION_OTP` - cодержит информацию о транзакциях клиентов. Столбцы:\n",
    "- `CUST_ID` (INT): Уникальный идентификатор клиента (связь с таблицей CUSTOMER_OTP).\n",
    "- `TRANSACTION_DT` (DATE): Дата транзакции.\n",
    "- `CURRENCY_ID` (VARCHAR(3)): Код валюты транзакции ('RUR' - российский рубль, 'USD' - доллар США, 'EUR' - евро и т.д.).\n",
    "- `TRANSACTION_AMT` (DECIMAL(10, 2)): Сумма транзакции.\n",
    "\n",
    "4. Таблица `CURRENCY_RATE_OTP` - cодержит информацию о курсах валют. Столбцы:\n",
    "- `CURRENCY_ID` (VARCHAR(3)): Код валюты ('RUR', 'USD', 'EUR' и т.д.).\n",
    "- `EXCH_RATE` (DECIMAL(10, 2)): Курс обмена для соответствующей валюты.\n",
    "- `VALID_FROM` (DATE): Дата начала действия курса.\n",
    "- `VALID_TO` (DATE): Дата окончания действия курса."
   ]
  },
  {
   "cell_type": "markdown",
   "id": "8ae66588",
   "metadata": {},
   "source": [
    "### Задача 1\n",
    "Выберите клиентов пенсионного возраста: женщин >= 60, мужчин >= 65. Выборку сделайте на день формирования запроса.\n",
    "\n",
    "Также, ограничьте выборку только теми клиентами, данные которых актуальны на текущий момент (где столбец valid_to не является уже прошедшей датой).\n",
    "\n",
    "Столбцы в результате: \\\n",
    "`cust_id`, \\\n",
    "`fullname`, \\\n",
    "`sex`, \\\n",
    "`birth_dt`"
   ]
  },
  {
   "cell_type": "markdown",
   "id": "beda0eea",
   "metadata": {},
   "source": [
    "### Решение:\n",
    "```\n",
    "SELECT \n",
    "    cust_id, \n",
    "    fullname,\n",
    "    sex,\n",
    "    birth_dt\n",
    "FROM \n",
    "    test_data.CUSTOMER_OTP \n",
    "WHERE \n",
    "    CASE \n",
    "     \tWHEN sex = 'Ж' THEN birth_dt + INTERVAL '60 years'\n",
    "     \tELSE birth_dt + INTERVAL '65 years'\n",
    "    END <= NOW() \n",
    "AND valid_to = '4000-01-01';\n",
    "```"
   ]
  },
  {
   "cell_type": "markdown",
   "id": "0bddef6f",
   "metadata": {},
   "source": [
    "### Задача 2\n",
    "Выбрать текущие ФИО клиента, телефон, e-mail, адрес.\n",
    "\n",
    "Столбцы в результате: \\\n",
    "`cust_id`, \\\n",
    "`fullname`, \\\n",
    "`phone`, \\\n",
    "`email`, \\\n",
    "`address`"
   ]
  },
  {
   "cell_type": "markdown",
   "id": "0af5ca62",
   "metadata": {},
   "source": [
    "### Решение:\n",
    "```\n",
    "SELECT \n",
    "    co.cust_id, \n",
    "    co.fullname, \n",
    "    MIN(CASE WHEN cco.type = 'PHONE' THEN cco.value END) as PHONE,\n",
    "    MIN(CASE WHEN cco.type = 'EMAIL' THEN cco.value END) as EMAIL,\n",
    "    MIN(CASE WHEN cco.type = 'ADDRESS' THEN cco.value END) as ADDRESS\n",
    "FROM \n",
    "    test_data.CUSTOMER_CONTACT_OTP as cco\n",
    "INNER JOIN \n",
    "    test_data.CUSTOMER_OTP as co ON cco.cust_id = co.cust_id AND co.valid_to = '4000-01-01'\n",
    "WHERE \n",
    "    cco.valid_to = '4000-01-01'\n",
    "GROUP BY\n",
    "    co.cust_id, \n",
    "    co.fullname\n",
    "```"
   ]
  },
  {
   "cell_type": "markdown",
   "id": "e0126d42",
   "metadata": {},
   "source": [
    "### Задача 3\n",
    "Посчитать сумму транзакций клиента в рублях за январь 2021 года.\n",
    "\n",
    "Столбцы в результате: \\\n",
    "`cust_id`, \\\n",
    "`fullname`, \\\n",
    "`amount_rur`"
   ]
  },
  {
   "cell_type": "markdown",
   "id": "4252811f",
   "metadata": {},
   "source": [
    "### Решение:\n",
    "```\n",
    "SELECT t.cust_id, \n",
    "       c.fullname,\n",
    "       SUM(t.transaction_amt * cr.exch_rate) AS amount_rur\n",
    "FROM\n",
    "    test_data.TRANSACTION_OTP AS t\n",
    "JOIN \n",
    "    test_data.CURRENCY_RATE_OTP AS cr ON t.currency_id = cr.currency_id\n",
    "    AND cr.valid_to >= t.transaction_dt\n",
    "    AND cr.valid_from <= t.transaction_dt \n",
    "JOIN \n",
    "    test_data.CUSTOMER_OTP AS c ON c.cust_id = t.cust_id\n",
    "WHERE \n",
    "    date_trunc('MONTH',  transaction_dt) = '2021-01-01'\n",
    "GROUP BY\n",
    "    t.cust_id, \n",
    "    c.fullname\n",
    "```"
   ]
  },
  {
   "cell_type": "markdown",
   "id": "0c37d6d8",
   "metadata": {},
   "source": [
    "### Задача 4\n",
    "Выбрать только уникальных по ФИО клиентов.\n",
    "\n",
    "Примечание: ФИО должны быть актуальны на текущий момент и включать однофамильцев. \\\n",
    "То есть, Иванов с cust_id = 1 и Иванов c cust_id = 10 - разные люди и оба должны попасть в выборку\n",
    "\n",
    "Столбцы в результате: \\\n",
    "`fullname`"
   ]
  },
  {
   "cell_type": "markdown",
   "id": "69cda574",
   "metadata": {},
   "source": [
    "### Решение:\n",
    "```\n",
    "SELECT \n",
    "    fullname\n",
    "FROM \n",
    "    test_data.CUSTOMER_OTP \n",
    "WHERE \n",
    "    cust_id IN \n",
    "        (SELECT\n",
    "            distinct cust_id \n",
    "        FROM\n",
    "            test_data.CUSTOMER_OTP)\n",
    "AND valid_to = '4000-01-01'\n",
    "```"
   ]
  },
  {
   "cell_type": "markdown",
   "id": "cb8bba56",
   "metadata": {},
   "source": [
    "### Задача 5\n",
    "Выберите текущую и предыдущую фамилию клиентов, которые меняли свои фамилии. \n",
    "\n",
    "Столбцы в результате: \\\n",
    "`cust_id`, \\\n",
    "`fullname`, \\\n",
    "`valid_from`, \\\n",
    "`previous_fullname`"
   ]
  },
  {
   "cell_type": "markdown",
   "id": "dc5c7cc3",
   "metadata": {},
   "source": [
    "### Решение:\n",
    "```\n",
    "WITH old_clients AS (\n",
    "SELECT \n",
    "    cust_id,\n",
    "    fullname, \n",
    "    LAG (fullname) OVER(PARTITION BY cust_id ORDER BY valid_from ROWS between unbounded preceding AND UNBOUNDED following) as previous_fullname,    \n",
    "    valid_from,\n",
    "    valid_to    \n",
    "FROM \n",
    "    test_data.CUSTOMER_OTP\n",
    ")\n",
    "SELECT   \n",
    "    cust_id, \n",
    "    fullname, \n",
    "    valid_from,\n",
    "    previous_fullname\n",
    "FROM\n",
    "    old_clients\n",
    "WHERE\n",
    "    valid_to = '4000-01-01';\n",
    "```"
   ]
  }
 ],
 "metadata": {
  "kernelspec": {
   "display_name": "Python 3 (ipykernel)",
   "language": "python",
   "name": "python3"
  },
  "language_info": {
   "codemirror_mode": {
    "name": "ipython",
    "version": 3
   },
   "file_extension": ".py",
   "mimetype": "text/x-python",
   "name": "python",
   "nbconvert_exporter": "python",
   "pygments_lexer": "ipython3",
   "version": "3.8.8"
  }
 },
 "nbformat": 4,
 "nbformat_minor": 5
}
